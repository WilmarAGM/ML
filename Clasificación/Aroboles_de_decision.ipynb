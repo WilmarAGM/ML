{
 "cells": [
  {
   "cell_type": "markdown",
   "metadata": {},
   "source": [
    "# Árboles de decisión\n",
    "\n",
    "Es un algoritmo supervisado que produce una función de hipótesis $h(x)$ no lineal. Puede usarse tanto para regresión como para clasificación.\n",
    "\n",
    "Dado un espacio de datos $\\chi$ busca una partición del espacio en subconjuntos dijuntos $R_i$.\n",
    "\n",
    "$$ \\chi = \\cup_{i=0}^{n} R_i, \\hspace{5mm}R_i\\cap R_j=\\phi \\hspace{3mm} i\\ne j$$\n",
    "\n",
    "Aprenden de una jerarquia if/else, lo que los lleva a una decisión. \n",
    "\n",
    "Supongamos que queremos distiguir entre Osos, halcones, delfines y pinguinos. La primera pregunta es el animal tiene plumas?, luego dependiendo de la respuesta aparecen dos nuevas preguntas ¿puede volar?, ¿tiene aletas?, con estás es posible hallar la respuesta, veamos: \n",
    "\n",
    "![Preview image](A1.png)\n",
    "\n",
    "En el anterior cada pregunta recibe el nombre de nodo (también llamado hoja)\n",
    "\n",
    "\n",
    "![](https://bookdown.org/content/2031/images/decision_tree_explanation.png)\n",
    "\n",
    "Divide los datos en conjuntos homegéneos basados en la variable de entrada (característica) más significativa.\n",
    "\n",
    "La construcción del árbol (selección de regiones) es recursivo y usa un método  Greedy para minimizar una función de pérdida. Analiza la mejor variable para dividir en el proceso de división actual, escoge:\n",
    "\n",
    "\n",
    "*   Nodo hoja\n",
    "*   Característica\n",
    "*   Umbral\n",
    "\n",
    "Dada una región $R_p$ se obtienen dos regiones \n",
    "\n",
    "$$R_1=\\{x | x_j<t, x\\in R_p\\} \\hspace{5mm} R_2=\\{x | x_j\\geq t, x \\in R_p\\} $$\n",
    "\n",
    "Para determinar el nodo, $j$ y $t$ buscamos máximizar \n",
    "\n",
    "$$L(R_p)-\\frac{|R_1|L(R_1)+|R_2|L(R_2)}{|R_1|+|R_2|}$$\n",
    "\n",
    "\n",
    "*  **Indice de Gini (impureza de Gini):**\n",
    "\n",
    "      $$L(R)=\\sum_{i=1}^{k}p_i(1-p_i)$$\n",
    "      donde $p_i$ es la proporción de casos que pertenecen a la clase $i$.\n",
    "      \n",
    "      No Garantiza mejoría. \n",
    "*    **Cross-entropy**\n",
    "\n",
    "      $$L(R)=-\\sum_{i=1}^{k}p_i\\log(p_i)$$\n",
    "      \n",
    "*    **Cuadrático**\n",
    "\n",
    "      $$L(R)=\\sum (y-\\hat{y})^2$$\n",
    "\n",
    "\n",
    "**Ventajas**\n",
    "* Fácil de entender.\n",
    "* Util en exploración de datos:identificar importancia de variables a partir de cientos de variables.\n",
    "* Menos limpieza de datos: outliers y valores faltantes no influencian mucho el modelo. \n",
    "* El tipo de datos no es una restricción.\n",
    "\n",
    "**Desventajas**\n",
    "* Sobreajuste.\n",
    "* Pérdida de información al categorizar variables continuas\n",
    "* Precisión, tasas de error altas. \n",
    "* Inestabilidad: un pequeño cambio en los datos puede modificar ampliamente la estructura del árbol. Por lo tanto la interpretación no es tan directa como parece.\n",
    "\n"
   ]
  },
  {
   "cell_type": "markdown",
   "metadata": {},
   "source": [
    "# Métodos de Ensamble \n",
    "\n",
    "* **Bagging (Boostrap aggregation):**. Método de ensamble que reduce la varianza. Se hace un remuestreo (bootstrap) en el cual creamos $m$ subconjuntos de datos del conjunto original haciendo muestreo aleatorio con reemplazo. El tamaño de cada subconjunto es del mismo tamaño del conjunto original. Con cada uno de esos $m$ subconjuntos se entrena un modelo y a partir de los $m$ modelos se hace una predicción.\n",
    "\n",
    "* **Boosting**: Método de ensamble que reduce varianza y sesgo. A las características se le modifica el peso relativo. Utiliza árboles de decisión debilies (una decisión antes de predecir) de forma secuencial, en cada paso se identifican datos mal clasificados y se aumenta el peso relativo, en el siguiente se entrena un árbol que clásifique bien estos datos. \n",
    "(No ayuda para el over-fitting)\n",
    "\n",
    "![alt text](https://miro.medium.com/max/708/1*ZYbqZcnzL1CT3ug9wQgY0Q.png)"
   ]
  },
  {
   "cell_type": "markdown",
   "metadata": {},
   "source": [
    "# Random Forest\n",
    "\n",
    "Es un método que utiliza árboles de decisión ensamblados con Bagging.\n",
    "\n",
    "* Para cada árbol se toma una muestra aleatoria con reemplazo de los datos. Esta muestra será el conjunto de entrenamiento para construir el árbol i.\n",
    "\n",
    "* Para cada nodo se seleccionan  $m<M$ variables aleatoriamente. El valor m se mantiene constante durante la generación de todo el bosque.\n",
    "\n",
    "* Cada árbol crece hasta su máximo. No hay proceso de poda.\n",
    "\n",
    "* Clásificación por votación y regresión usando promedio. \n",
    "\n",
    "**Hyper-parametros**\n",
    "\n",
    "* Número de árboles del bosque. \n",
    "\n",
    "* Número de variables aleatorias como candidatas en cada ramificación. \n",
    "\n",
    "* Número de muestras sobre las cuales entrenar.\n",
    "\n",
    "* Mínimo número de muestras dentro de los nodos terminales.\n",
    "\n",
    "* Máximo número de nodos terminales"
   ]
  },
  {
   "cell_type": "markdown",
   "metadata": {},
   "source": [
    "# Implementación del método\n",
    "\n",
    "Tomaremos la base de datos diabetes.csv y realizaremos la predicción de *Diabetic*"
   ]
  },
  {
   "cell_type": "code",
   "execution_count": 11,
   "metadata": {},
   "outputs": [],
   "source": [
    "from sklearn.ensemble import RandomForestClassifier\n",
    "from sklearn.metrics import accuracy_score, confusion_matrix\n",
    "from sklearn.model_selection import train_test_split\n",
    "import pandas as pd\n",
    "import matplotlib.pyplot as plt\n",
    "import seaborn as sns\n",
    "import numpy as np"
   ]
  },
  {
   "cell_type": "code",
   "execution_count": 15,
   "metadata": {},
   "outputs": [
    {
     "name": "stdout",
     "output_type": "stream",
     "text": [
      "-------- Precisión----------\n",
      "0.9435555555555556\n",
      "-------- Matriz de confusión--\n"
     ]
    },
    {
     "data": {
      "text/plain": [
       "<matplotlib.axes._subplots.AxesSubplot at 0x1efb173df70>"
      ]
     },
     "execution_count": 15,
     "metadata": {},
     "output_type": "execute_result"
    },
    {
     "data": {
      "image/png": "[encoded data removed]",
      "text/plain": [
       "<Figure size 432x288 with 2 Axes>"
      ]
     },
     "metadata": {
      "needs_background": "light"
     },
     "output_type": "display_data"
    }
   ],
   "source": [
    "df = pd.read_csv('diabetes.csv')\n",
    "X = df.drop(['PatientID', 'Diabetic'], axis=1)\n",
    "y = df['Diabetic']\n",
    "x_train, x_test, y_train, y_test = train_test_split(X, y, test_size=0.3, random_state=10)\n",
    "# Entrenamos el modelo\n",
    "modelo = RandomForestClassifier(n_estimators=150)\n",
    "modelo.fit(x_train, y_train)\n",
    "y_p = modelo.predict(x_test)\n",
    "print('-------- Precisión----------')\n",
    "print(accuracy_score(y_test, y_p))\n",
    "print('-------- Matriz de confusión--')\n",
    "sns.heatmap(confusion_matrix(y_test, y_p)/np.sum(confusion_matrix(y_test, y_p)), annot=True, fmt='0.2%',  cmap='Blues')"
   ]
  }
 ],
 "metadata": {
  "kernelspec": {
   "display_name": "base",
   "language": "python",
   "name": "python3"
  },
  "language_info": {
   "codemirror_mode": {
    "name": "ipython",
    "version": 3
   },
   "file_extension": ".py",
   "mimetype": "text/x-python",
   "name": "python",
   "nbconvert_exporter": "python",
   "pygments_lexer": "ipython3",
   "version": "3.8.3"
  }
 },
 "nbformat": 4,
 "nbformat_minor": 2
}
