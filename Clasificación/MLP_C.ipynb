{
 "cells": [
  {
   "cell_type": "code",
   "execution_count": 2,
   "metadata": {},
   "outputs": [],
   "source": [
    "from sklearn.neural_network import MLPClassifier\n",
    "from sklearn.metrics import accuracy_score, confusion_matrix\n",
    "from sklearn.model_selection import train_test_split\n",
    "from sklearn.preprocessing import StandardScaler, MinMaxScaler\n",
    "import pandas as pd\n",
    "import numpy as np\n",
    "import matplotlib.pyplot as plt\n",
    "import seaborn as sns"
   ]
  },
  {
   "cell_type": "code",
   "execution_count": 21,
   "metadata": {},
   "outputs": [],
   "source": [
    "df = pd.read_csv('diabetes.csv')\n",
    "X = df.drop(['PatientID', 'Diabetic'], axis=1)\n",
    "y = df['Diabetic']\n",
    "scaler = MinMaxScaler()\n",
    "scaler.fit(X)\n",
    "X = scaler.transform(X)\n",
    "x_train, x_test, y_train, y_test = train_test_split(X,y, test_size=0.3)\n",
    "\n"
   ]
  },
  {
   "cell_type": "code",
   "execution_count": 25,
   "metadata": {},
   "outputs": [
    {
     "name": "stdout",
     "output_type": "stream",
     "text": [
      "La precisión del conjunto de prueba es 92.62 %\n",
      "La precisión del conjunto de entrenamiento es 99.84 %\n"
     ]
    }
   ],
   "source": [
    "model = MLPClassifier(hidden_layer_sizes=[2000,2000], activation='tanh', max_iter=10000)\n",
    "model.fit(x_train, y_train)\n",
    "y_p = model.predict(x_test)\n",
    "y_a = model.predict(x_train)\n",
    "print('La precisión del conjunto de prueba es {:.2f} %'.format(100*accuracy_score(y_test, y_p)))\n",
    "print('La precisión del conjunto de entrenamiento es {:.2f} %'.format(100*accuracy_score(y_train, y_a)))"
   ]
  },
  {
   "cell_type": "code",
   "execution_count": 26,
   "metadata": {},
   "outputs": [
    {
     "name": "stdout",
     "output_type": "stream",
     "text": [
      "-------- Matriz de confusión---------\n"
     ]
    },
    {
     "data": {
      "text/plain": [
       "<matplotlib.axes._subplots.AxesSubplot at 0x209014d3910>"
      ]
     },
     "execution_count": 26,
     "metadata": {},
     "output_type": "execute_result"
    },
    {
     "data": {
      "image/png": "[encoded data removed]",
      "text/plain": [
       "<Figure size 432x288 with 2 Axes>"
      ]
     },
     "metadata": {
      "needs_background": "light"
     },
     "output_type": "display_data"
    }
   ],
   "source": [
    "print('-------- Matriz de confusión---------')\n",
    "sns.heatmap(confusion_matrix(y_test, y_p)/np.sum(confusion_matrix(y_test, y_p)), annot=True, fmt='0.2%',  cmap='Blues')"
   ]
  },
  {
   "cell_type": "code",
   "execution_count": 3,
   "metadata": {},
   "outputs": [],
   "source": [
    "# Usando otro escalador\n",
    "df = pd.read_csv('diabetes.csv')\n",
    "X = df.drop(['PatientID', 'Diabetic'], axis=1)\n",
    "y = df['Diabetic']\n",
    "scaler = StandardScaler()\n",
    "scaler.fit(X)\n",
    "X = scaler.transform(X)\n",
    "x_train, x_test, y_train, y_test = train_test_split(X,y, test_size=0.2)"
   ]
  },
  {
   "cell_type": "code",
   "execution_count": 8,
   "metadata": {},
   "outputs": [
    {
     "name": "stdout",
     "output_type": "stream",
     "text": [
      "La precisión del conjunto de prueba es 92.50 %\n",
      "La precisión del conjunto de entrenamiento es 93.49 %\n"
     ]
    }
   ],
   "source": [
    "model2 = MLPClassifier(hidden_layer_sizes=[50,15], activation='logistic', max_iter=10000, alpha=0.001)\n",
    "model2.fit(x_train, y_train)\n",
    "y_p = model2.predict(x_test)\n",
    "y_a = model2.predict(x_train)\n",
    "print('La precisión del conjunto de prueba es {:.2f} %'.format(100*accuracy_score(y_test, y_p)))\n",
    "print('La precisión del conjunto de entrenamiento es {:.2f} %'.format(100*accuracy_score(y_train, y_a)))"
   ]
  },
  {
   "cell_type": "code",
   "execution_count": 9,
   "metadata": {},
   "outputs": [
    {
     "name": "stdout",
     "output_type": "stream",
     "text": [
      "-------- Matriz de confusión---------\n"
     ]
    },
    {
     "data": {
      "text/plain": [
       "<matplotlib.axes._subplots.AxesSubplot at 0x1cb0bd76850>"
      ]
     },
     "execution_count": 9,
     "metadata": {},
     "output_type": "execute_result"
    },
    {
     "data": {
      "image/png": "[encoded data removed]",
      "text/plain": [
       "<Figure size 432x288 with 2 Axes>"
      ]
     },
     "metadata": {
      "needs_background": "light"
     },
     "output_type": "display_data"
    }
   ],
   "source": [
    "print('-------- Matriz de confusión---------')\n",
    "sns.heatmap(confusion_matrix(y_test, y_p)/np.sum(confusion_matrix(y_test, y_p)), annot=True, fmt='0.2%',  cmap='Blues')"
   ]
  }
 ],
 "metadata": {
  "kernelspec": {
   "display_name": "base",
   "language": "python",
   "name": "python3"
  },
  "language_info": {
   "codemirror_mode": {
    "name": "ipython",
    "version": 3
   },
   "file_extension": ".py",
   "mimetype": "text/x-python",
   "name": "python",
   "nbconvert_exporter": "python",
   "pygments_lexer": "ipython3",
   "version": "3.8.3"
  }
 },
 "nbformat": 4,
 "nbformat_minor": 2
}
