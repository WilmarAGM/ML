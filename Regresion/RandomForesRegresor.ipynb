{
 "cells": [
  {
   "cell_type": "markdown",
   "metadata": {},
   "source": [
    "# Predicción del precio\n",
    "\n",
    "En el siguiente implementaremos de RandomForestResgressor para predecir el precio de una casa"
   ]
  },
  {
   "cell_type": "code",
   "execution_count": 3,
   "metadata": {},
   "outputs": [],
   "source": [
    "from sklearn.ensemble import RandomForestRegressor\n",
    "from sklearn.metrics import r2_score, mean_squared_error\n",
    "from sklearn.model_selection import train_test_split as tts\n",
    "import pandas as pd\n",
    "import numpy as np \n",
    "import matplotlib.pyplot as plt\n",
    "import seaborn as sns\n"
   ]
  },
  {
   "cell_type": "code",
   "execution_count": 9,
   "metadata": {},
   "outputs": [],
   "source": [
    "df = pd.read_csv('USA_Housing.csv')\n",
    "df.columns\n",
    "X = df.drop(['Price', 'Address'], axis=1)\n",
    "y = df['Price']\n",
    "x_train, x_test, y_train, y_test = tts(X,y,test_size=0.3)\n"
   ]
  },
  {
   "cell_type": "code",
   "execution_count": 13,
   "metadata": {},
   "outputs": [
    {
     "name": "stdout",
     "output_type": "stream",
     "text": [
      "--------R^2------------\n",
      "0.8882393571150068\n",
      "-------MSR-------------\n",
      "14370015962.959068\n"
     ]
    }
   ],
   "source": [
    "model = RandomForestRegressor()\n",
    "model.fit(x_train, y_train)\n",
    "y_p = model.predict(x_test)\n",
    "print('--------R^2------------')\n",
    "print(r2_score(y_test,y_p))\n",
    "print('-------MSR-------------')\n",
    "print(mean_squared_error(y_test, y_p))"
   ]
  },
  {
   "cell_type": "code",
   "execution_count": 26,
   "metadata": {},
   "outputs": [
    {
     "data": {
      "image/png": "[encoded data removed]",
      "text/plain": [
       "<Figure size 432x288 with 1 Axes>"
      ]
     },
     "metadata": {
      "needs_background": "light"
     },
     "output_type": "display_data"
    }
   ],
   "source": [
    "y_p = np.sort(y_p)\n",
    "y_test = y_test.sort_values()\n",
    "plt.figure()\n",
    "plt.scatter(y_test, y_p, color='b', marker='^')\n",
    "plt.plot(y_test, y_test, color ='r', linestyle='dotted')\n",
    "plt.xlabel('valor real')\n",
    "plt.ylabel('predicción')\n",
    "plt.title('$y_{test}$ vs $y_{prediccióm}$', fontweight=\"bold\")\n",
    "plt.grid()\n"
   ]
  }
 ],
 "metadata": {
  "kernelspec": {
   "display_name": "base",
   "language": "python",
   "name": "python3"
  },
  "language_info": {
   "codemirror_mode": {
    "name": "ipython",
    "version": 3
   },
   "file_extension": ".py",
   "mimetype": "text/x-python",
   "name": "python",
   "nbconvert_exporter": "python",
   "pygments_lexer": "ipython3",
   "version": "3.8.3"
  }
 },
 "nbformat": 4,
 "nbformat_minor": 2
}
